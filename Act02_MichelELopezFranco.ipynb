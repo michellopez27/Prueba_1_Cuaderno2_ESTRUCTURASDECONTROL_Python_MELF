{
 "cells": [
  {
   "cell_type": "markdown",
   "id": "374fecd6",
   "metadata": {},
   "source": [
    "# Actividad 02\n",
    "## Estructuras de Control\n",
    "### Michel Lopez Franco"
   ]
  },
  {
   "cell_type": "markdown",
   "id": "fd58bc6a",
   "metadata": {},
   "source": [
    "### Estructura Secuencial"
   ]
  },
  {
   "cell_type": "markdown",
   "id": "87d14d68",
   "metadata": {},
   "source": [
    "#### Ejercicio 1\n",
    "Realice un programa que le solicite al usuario una cantidad de pesos y los convierta a dólares. Se tomará la equivalencia de 1\n",
    "Dólar = 17.35 pesos. Despliegue en pantalla los resultados. Solicite la cantidad de pesos por medio de float(input()) ."
   ]
  },
  {
   "cell_type": "code",
   "execution_count": 7,
   "id": "6879640e",
   "metadata": {},
   "outputs": [
    {
     "name": "stdout",
     "output_type": "stream",
     "text": [
      "Ingrese la cantidad de pesos a convertir: 1214\n",
      "$1214.0 pesos equivalen a $69.97 dólares.\n"
     ]
    }
   ],
   "source": [
    "amountMXN = float(input(\"Ingrese la cantidad de pesos a convertir: \"))\n",
    "mxn2usd = 1/17.35\n",
    "amountUSD = amountMXN*mxn2usd\n",
    "print(f\"${amountMXN} pesos equivalen a ${amountUSD:.2f} dólares.\")"
   ]
  },
  {
   "cell_type": "markdown",
   "id": "e3e73850",
   "metadata": {},
   "source": [
    "### Estructura Selectiva"
   ]
  },
  {
   "cell_type": "markdown",
   "id": "e2eebb10",
   "metadata": {},
   "source": [
    "#### Ejercicio 1\n",
    "Imprimir si un estudiante es admitido o no en la universidad con base en la calificación de la preparatoria y del examen de\n",
    "admisión. Calcule el promedio con base en las dos calificaciones. El promedio mínimo de admisión es 85.\n"
   ]
  },
  {
   "cell_type": "code",
   "execution_count": 14,
   "id": "d5ee3c42",
   "metadata": {},
   "outputs": [
    {
     "name": "stdout",
     "output_type": "stream",
     "text": [
      "Ingrese la calificación de preparatoria: 100\n",
      "Ingrese la calificación del examen de admisión: 100\n",
      "El estudiante es admitido en la universidad.\n"
     ]
    }
   ],
   "source": [
    "gradeHS = float(input(\"Ingrese la calificación de preparatoria: \"))\n",
    "gradeADM = float(input(\"Ingrese la calificación del examen de admisión: \"))\n",
    "\n",
    "average = (gradeHS + gradeADM) / 2\n",
    "\n",
    "if average >= 85:\n",
    "    print(\"El estudiante es admitido en la universidad.\")\n",
    "else:\n",
    "    print(\"El estudiante no es admitido en la universidad.\")\n"
   ]
  },
  {
   "cell_type": "markdown",
   "id": "5a52aed3",
   "metadata": {},
   "source": [
    "#### Ejercicio 2\n",
    "Imprime 1 si a == b , imprime 2 si a > b , imprime 3 si a < b , en caso contrario imprime 4. Solicite el valor de a y b por medio de int(input()) . Utilice a la estructura if - elif - else para realizar este ejercicio."
   ]
  },
  {
   "cell_type": "code",
   "execution_count": 18,
   "id": "076c7d76",
   "metadata": {},
   "outputs": [
    {
     "name": "stdout",
     "output_type": "stream",
     "text": [
      "Escriba el valor de a: 2\n",
      "Escriba el valor de b: 1\n",
      "2\n"
     ]
    }
   ],
   "source": [
    "a = int(input(\"Escriba el valor de a: \"))\n",
    "b = int(input(\"Escriba el valor de b: \"))\n",
    "\n",
    "def compare(a1,b1):\n",
    "    if a==b:\n",
    "        return 1\n",
    "    elif a>b:\n",
    "        return 2\n",
    "    else:\n",
    "        return 3\n",
    "    \n",
    "print(compare(a,b))"
   ]
  },
  {
   "cell_type": "markdown",
   "id": "d6131bf0",
   "metadata": {},
   "source": [
    "### Estructura Repetitiva"
   ]
  },
  {
   "cell_type": "markdown",
   "id": "45d4cb10",
   "metadata": {},
   "source": [
    "#### Ejercicio 1\n",
    "Imprime i mientras que i < 6 . El valor inicial de i es i = 0 . Utilice al ciclo while para realizar este ejercicio."
   ]
  },
  {
   "cell_type": "code",
   "execution_count": 20,
   "id": "fdda5e84",
   "metadata": {},
   "outputs": [
    {
     "name": "stdout",
     "output_type": "stream",
     "text": [
      "0\n",
      "1\n",
      "2\n",
      "3\n",
      "4\n",
      "5\n"
     ]
    }
   ],
   "source": [
    "i=0\n",
    "while(i<6):\n",
    "    print(i)\n",
    "    i += 1"
   ]
  },
  {
   "cell_type": "markdown",
   "id": "81b41390",
   "metadata": {},
   "source": [
    "#### Ejercicio 2\n",
    "Recorrer e imprimir las letras de la palabra \"PROGRAMA\". Cada que aparezca la letra A en vez de imprimirla se mostrará en pantalla un arroba @. Utilice a la estructura for para realizar este ejercicio. También utilice a la función continue para saltar las instrucciones cuando se encuentre a la letra A."
   ]
  },
  {
   "cell_type": "code",
   "execution_count": 24,
   "id": "3a3af0f8",
   "metadata": {},
   "outputs": [
    {
     "name": "stdout",
     "output_type": "stream",
     "text": [
      "P\n",
      "R\n",
      "O\n",
      "G\n",
      "R\n",
      "@\n",
      "M\n",
      "@\n"
     ]
    }
   ],
   "source": [
    "string = \"PROGRAMA\"\n",
    "\n",
    "for char in string:\n",
    "    if char == \"A\":\n",
    "        print(\"@\")\n",
    "        continue\n",
    "    print(char)"
   ]
  }
 ],
 "metadata": {
  "kernelspec": {
   "display_name": "Python 3 (ipykernel)",
   "language": "python",
   "name": "python3"
  },
  "language_info": {
   "codemirror_mode": {
    "name": "ipython",
    "version": 3
   },
   "file_extension": ".py",
   "mimetype": "text/x-python",
   "name": "python",
   "nbconvert_exporter": "python",
   "pygments_lexer": "ipython3",
   "version": "3.9.13"
  }
 },
 "nbformat": 4,
 "nbformat_minor": 5
}
